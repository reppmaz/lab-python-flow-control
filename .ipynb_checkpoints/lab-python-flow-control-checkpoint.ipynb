{
 "cells": [
  {
   "cell_type": "markdown",
   "id": "d3bfc191-8885-42ee-b0a0-bbab867c6f9f",
   "metadata": {
    "tags": []
   },
   "source": [
    "# Lab | Flow Control"
   ]
  },
  {
   "cell_type": "markdown",
   "id": "3851fcd1-cf98-4653-9c89-e003b7ec9400",
   "metadata": {},
   "source": [
    "## Exercise: Managing Customer Orders Optimized\n",
    "\n",
    "In the last lab, you were starting an online store that sells various products. To ensure smooth operations, you developed a program that manages customer orders and inventory.\n",
    "\n",
    "You did so without using flow control. Let's go a step further and improve this code.\n",
    "\n",
    "Follow the steps below to complete the exercise:\n",
    "\n",
    "1. Look at your code from the lab data structures, and improve repeated code with loops.\n",
    "\n",
    "2. Instead of asking the user to input the name of three products that a customer wants to order, do the following:\n",
    "    \n",
    "    a. Prompt the user to enter the name of a product that a customer wants to order.\n",
    "    \n",
    "    b. Add the product name to the \"customer_orders\" set.\n",
    "    \n",
    "    c. Ask the user if they want to add another product (yes/no).\n",
    "    \n",
    "    d. Continue the loop until the user does not want to add another product.\n",
    "\n",
    "3. Instead of updating the inventory by subtracting 1 from the quantity of each product, only do it for  the products that were ordered (those in \"customer_orders\")."
   ]
  },
  {
   "cell_type": "code",
   "execution_count": 12,
   "id": "937dcb78",
   "metadata": {},
   "outputs": [
    {
     "name": "stdout",
     "output_type": "stream",
     "text": [
      "please enter the the product quantity of the following product: t-shirt: 20\n",
      "please enter the the product quantity of the following product: mug: 30\n",
      "please enter the the product quantity of the following product: hat: 90\n",
      "please enter the the product quantity of the following product: book: 78\n",
      "please enter the the product quantity of the following product: keychain: 80\n",
      "{'t-shirt': 20, 'mug': 30, 'hat': 90, 'book': 78, 'keychain': 80}\n"
     ]
    }
   ],
   "source": [
    "# 1. - 3.\n",
    "products = [\"t-shirt\", \"mug\", \"hat\", \"book\", \"keychain\"]\n",
    "inventory = {}\n",
    "for product in products:\n",
    "    quantity = int(input(f'please enter the the product quantity of the following product: {product}: '))\n",
    "    inventory[product] = quantity\n",
    "\n",
    "print(inventory)"
   ]
  },
  {
   "cell_type": "code",
   "execution_count": 13,
   "id": "22466763",
   "metadata": {},
   "outputs": [
    {
     "name": "stdout",
     "output_type": "stream",
     "text": [
      "Please enter which of the following items you would like to order: t-shirt, mug, hat, book, or keychain: mug\n",
      "{'mug'}\n"
     ]
    }
   ],
   "source": [
    "# new exercises 2 a) and b) (old exercises 4. - 6.)\n",
    "customer_orders = set()\n",
    "\n",
    "order = input('Please enter which of the following items you would like to order: t-shirt, mug, hat, book, or keychain: ')\n",
    "customer_orders.add(order)\n",
    "\n",
    "print(customer_orders)"
   ]
  },
  {
   "cell_type": "code",
   "execution_count": 14,
   "id": "4fa93766",
   "metadata": {},
   "outputs": [
    {
     "name": "stdout",
     "output_type": "stream",
     "text": [
      "Would you like to add another product to your order? (yes/no): yes\n",
      "Would you like to add another product to your order? (yes/no): yes\n",
      "Would you like to add another product to your order? (yes/no): no\n",
      "Thank you for your order\n"
     ]
    }
   ],
   "source": [
    "# 2 c)\n",
    "another_order = input('Would you like to add another product to your order? (yes/no): ')\n",
    "    \n",
    "# Repeatedly ask for more orders as long as user says \"yes\"\n",
    "while another_order == 'yes':\n",
    "    another_order = input('Would you like to add another product to your order? (yes/no): ')\n",
    "else:\n",
    "    print('Thank you for your order')"
   ]
  },
  {
   "cell_type": "code",
   "execution_count": 15,
   "id": "4cebe7fe",
   "metadata": {},
   "outputs": [
    {
     "name": "stdout",
     "output_type": "stream",
     "text": [
      "1\n",
      "298\n",
      "1\n",
      "0.33557046979865773\n",
      "(298, 0.33557046979865773)\n",
      "Order Statistics:\n",
      "Total Products Ordered: 1\n",
      "Percentage of Products Ordered: 0.33557046979865773%\n"
     ]
    }
   ],
   "source": [
    "# old: 7. & 8.\n",
    "print(len(customer_orders))\n",
    "\n",
    "overall = sum(inventory.values())\n",
    "print(overall)\n",
    "nrorders = len(customer_orders)\n",
    "print(nrorders)\n",
    "perc_orders = (nrorders/overall)*100\n",
    "print(perc_orders)\n",
    "\n",
    "order_status = (overall, perc_orders)\n",
    "print(order_status)\n",
    "\n",
    "print(f'Order Statistics:\\nTotal Products Ordered: {nrorders}\\nPercentage of Products Ordered: {perc_orders}%')\n"
   ]
  },
  {
   "cell_type": "code",
   "execution_count": 16,
   "id": "cea9f0ce",
   "metadata": {},
   "outputs": [
    {
     "name": "stdout",
     "output_type": "stream",
     "text": [
      "{'t-shirt': 20, 'mug': 29, 'hat': 90, 'book': 78, 'keychain': 80}\n",
      "item: t-shirt, avilable: 20\n",
      "item: mug, avilable: 29\n",
      "item: hat, avilable: 90\n",
      "item: book, avilable: 78\n",
      "item: keychain, avilable: 80\n"
     ]
    }
   ],
   "source": [
    "'''\n",
    "# old: 9. & 10.\n",
    "for item in customer_orders:\n",
    "    inventory[item] = inventory[item] - 1\n",
    "print(inventory)\n",
    "\n",
    "for key, value in inventory.items():\n",
    "    print(f'item: {key}, avilable: {value}')\n",
    "'''\n",
    "# 3.\n",
    "for item in customer_orders:\n",
    "    if item in inventory:\n",
    "        inventory[item] = inventory[item] - 1\n",
    "print(inventory)\n",
    "\n",
    "for key, value in inventory.items():\n",
    "    print(f'item: {key}, avilable: {value}')"
   ]
  }
 ],
 "metadata": {
  "kernelspec": {
   "display_name": "Python 3 (ipykernel)",
   "language": "python",
   "name": "python3"
  },
  "language_info": {
   "codemirror_mode": {
    "name": "ipython",
    "version": 3
   },
   "file_extension": ".py",
   "mimetype": "text/x-python",
   "name": "python",
   "nbconvert_exporter": "python",
   "pygments_lexer": "ipython3",
   "version": "3.9.19"
  }
 },
 "nbformat": 4,
 "nbformat_minor": 5
}
